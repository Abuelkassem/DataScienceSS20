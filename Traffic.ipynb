{
  "nbformat": 4,
  "nbformat_minor": 0,
  "metadata": {
    "colab": {
      "name": "Traffic.ipynb",
      "provenance": [],
      "collapsed_sections": [],
      "authorship_tag": "ABX9TyOstmHrkzNC8EfeQzG+goa+",
      "include_colab_link": true
    },
    "kernelspec": {
      "name": "python3",
      "display_name": "Python 3"
    }
  },
  "cells": [
    {
      "cell_type": "markdown",
      "metadata": {
        "id": "view-in-github",
        "colab_type": "text"
      },
      "source": [
        "<a href=\"https://colab.research.google.com/github/Abuelkassem/DataScienceSS20/blob/master/Traffic.ipynb\" target=\"_parent\"><img src=\"https://colab.research.google.com/assets/colab-badge.svg\" alt=\"Open In Colab\"/></a>"
      ]
    },
    {
      "cell_type": "code",
      "metadata": {
        "id": "_mfmKt25ntfD",
        "colab_type": "code",
        "outputId": "045f7a1d-746a-488d-89da-348036068059",
        "colab": {
          "base_uri": "https://localhost:8080/",
          "height": 54
        }
      },
      "source": [
        "from google.colab import drive\n",
        "drive.mount('/content/drive/')"
      ],
      "execution_count": 5,
      "outputs": [
        {
          "output_type": "stream",
          "text": [
            "Drive already mounted at /content/drive/; to attempt to forcibly remount, call drive.mount(\"/content/drive/\", force_remount=True).\n"
          ],
          "name": "stdout"
        }
      ]
    },
    {
      "cell_type": "code",
      "metadata": {
        "id": "IB6B5br73_zO",
        "colab_type": "code",
        "colab": {}
      },
      "source": [
        "import numpy as np \n",
        "import pandas as pd \n",
        "import matplotlib.pyplot as plt\n",
        "import tensorflow as tf\n",
        "import cv2\n",
        "from PIL import Image\n",
        "import os"
      ],
      "execution_count": 0,
      "outputs": []
    },
    {
      "cell_type": "code",
      "metadata": {
        "id": "YJRu5eAuoPqA",
        "colab_type": "code",
        "outputId": "66f1c2ba-c5b8-402c-8c5f-16976a5a7d41",
        "colab": {
          "base_uri": "https://localhost:8080/",
          "height": 229
        }
      },
      "source": [
        "train_dir = '/content/drive/My Drive/Project/Final_Training/Images/00000'\n",
        "Class = os.listdir(train_dir)\n",
        "data = []\n",
        "for a in Class[:(len(Class)-1)]:\n",
        "  try:\n",
        "            image=cv2.imread(path+'/'+a)\n",
        "            image_from_array = Image.fromarray(image, 'RGB')\n",
        "            size_image = image_from_array.resize((height, width))\n",
        "            data.append(np.array(size_image))\n",
        "            labels.append(i)\n",
        "  except AttributeError:\n",
        "            print(\" \")\n",
        "\n",
        "Cells=np.array(data)\n",
        "labels=np.array(labels)"
      ],
      "execution_count": 0,
      "outputs": [
        {
          "output_type": "error",
          "ename": "NameError",
          "evalue": "ignored",
          "traceback": [
            "\u001b[0;31m---------------------------------------------------------------------------\u001b[0m",
            "\u001b[0;31mNameError\u001b[0m                                 Traceback (most recent call last)",
            "\u001b[0;32m<ipython-input-3-22325a9fedaf>\u001b[0m in \u001b[0;36m<module>\u001b[0;34m()\u001b[0m\n\u001b[1;32m      4\u001b[0m \u001b[0;32mfor\u001b[0m \u001b[0ma\u001b[0m \u001b[0;32min\u001b[0m \u001b[0mClass\u001b[0m\u001b[0;34m[\u001b[0m\u001b[0;34m:\u001b[0m\u001b[0;34m(\u001b[0m\u001b[0mlen\u001b[0m\u001b[0;34m(\u001b[0m\u001b[0mClass\u001b[0m\u001b[0;34m)\u001b[0m\u001b[0;34m-\u001b[0m\u001b[0;36m1\u001b[0m\u001b[0;34m)\u001b[0m\u001b[0;34m]\u001b[0m\u001b[0;34m:\u001b[0m\u001b[0;34m\u001b[0m\u001b[0;34m\u001b[0m\u001b[0m\n\u001b[1;32m      5\u001b[0m   \u001b[0;32mtry\u001b[0m\u001b[0;34m:\u001b[0m\u001b[0;34m\u001b[0m\u001b[0;34m\u001b[0m\u001b[0m\n\u001b[0;32m----> 6\u001b[0;31m             \u001b[0mimage\u001b[0m\u001b[0;34m=\u001b[0m\u001b[0mcv2\u001b[0m\u001b[0;34m.\u001b[0m\u001b[0mimread\u001b[0m\u001b[0;34m(\u001b[0m\u001b[0mpath\u001b[0m\u001b[0;34m+\u001b[0m\u001b[0;34m'/'\u001b[0m\u001b[0;34m+\u001b[0m\u001b[0ma\u001b[0m\u001b[0;34m)\u001b[0m\u001b[0;34m\u001b[0m\u001b[0;34m\u001b[0m\u001b[0m\n\u001b[0m\u001b[1;32m      7\u001b[0m             \u001b[0mimage_from_array\u001b[0m \u001b[0;34m=\u001b[0m \u001b[0mImage\u001b[0m\u001b[0;34m.\u001b[0m\u001b[0mfromarray\u001b[0m\u001b[0;34m(\u001b[0m\u001b[0mimage\u001b[0m\u001b[0;34m,\u001b[0m \u001b[0;34m'RGB'\u001b[0m\u001b[0;34m)\u001b[0m\u001b[0;34m\u001b[0m\u001b[0;34m\u001b[0m\u001b[0m\n\u001b[1;32m      8\u001b[0m             \u001b[0msize_image\u001b[0m \u001b[0;34m=\u001b[0m \u001b[0mimage_from_array\u001b[0m\u001b[0;34m.\u001b[0m\u001b[0mresize\u001b[0m\u001b[0;34m(\u001b[0m\u001b[0;34m(\u001b[0m\u001b[0mheight\u001b[0m\u001b[0;34m,\u001b[0m \u001b[0mwidth\u001b[0m\u001b[0;34m)\u001b[0m\u001b[0;34m)\u001b[0m\u001b[0;34m\u001b[0m\u001b[0;34m\u001b[0m\u001b[0m\n",
            "\u001b[0;31mNameError\u001b[0m: name 'path' is not defined"
          ]
        }
      ]
    },
    {
      "cell_type": "code",
      "metadata": {
        "id": "t5JnUI9muASw",
        "colab_type": "code",
        "outputId": "20524fb3-9026-45cb-c6f6-97c0e33c064d",
        "colab": {
          "base_uri": "https://localhost:8080/",
          "height": 34
        }
      },
      "source": [
        "Cells.shape"
      ],
      "execution_count": 0,
      "outputs": [
        {
          "output_type": "execute_result",
          "data": {
            "text/plain": [
              "(210, 30, 30, 3)"
            ]
          },
          "metadata": {
            "tags": []
          },
          "execution_count": 34
        }
      ]
    },
    {
      "cell_type": "code",
      "metadata": {
        "id": "FAKOkv1l7YPX",
        "colab_type": "code",
        "outputId": "4bdd0e45-b7ff-49c7-b4f4-6011c6851513",
        "colab": {
          "base_uri": "https://localhost:8080/",
          "height": 54
        }
      },
      "source": [
        "train_dir = '/content/drive/My Drive/Project/Final_Training/Images/00000'\n",
        "print (os.listdir(train_dir))"
      ],
      "execution_count": 0,
      "outputs": [
        {
          "output_type": "stream",
          "text": [
            "['00002_00006.ppm', '00002_00015.ppm', '00000_00017.ppm', '00001_00011.ppm', '00001_00003.ppm', '00001_00018.ppm', '00000_00005.ppm', '00000_00013.ppm', '00000_00019.ppm', '00002_00008.ppm', '00002_00013.ppm', '00000_00023.ppm', '00001_00015.ppm', '00000_00003.ppm', '00002_00004.ppm', '00000_00012.ppm', '00000_00011.ppm', '00002_00010.ppm', '00000_00024.ppm', '00001_00027.ppm', '00000_00018.ppm', '00000_00008.ppm', '00002_00016.ppm', '00001_00024.ppm', '00002_00009.ppm', '00001_00025.ppm', '00001_00014.ppm', '00001_00002.ppm', '00002_00014.ppm', '00000_00025.ppm', '00001_00019.ppm', '00001_00007.ppm', '00000_00000.ppm', '00001_00005.ppm', '00000_00021.ppm', '00002_00002.ppm', '00001_00004.ppm', '00002_00000.ppm', '00000_00015.ppm', '00002_00017.ppm', '00002_00003.ppm', '00000_00007.ppm', '00001_00000.ppm', '00001_00009.ppm', '00000_00014.ppm', '00002_00011.ppm', '00001_00010.ppm', '00001_00022.ppm', '00001_00026.ppm', '00000_00029.ppm', '00001_00013.ppm', '00000_00027.ppm', '00002_00012.ppm', '00001_00017.ppm', '00001_00001.ppm', '00000_00009.ppm', '00000_00020.ppm', '00002_00005.ppm', '00002_00001.ppm', '00001_00021.ppm', '00000_00002.ppm', '00001_00028.ppm', '00002_00007.ppm', '00000_00026.ppm', '00001_00008.ppm', '00001_00016.ppm', '00001_00006.ppm', '00000_00028.ppm', '00001_00029.ppm', '00000_00022.ppm', '00000_00004.ppm', '00001_00023.ppm', '00001_00020.ppm', '00000_00006.ppm', '00001_00012.ppm', '00000_00010.ppm', '00000_00001.ppm', '00000_00016.ppm', '00003_00000.ppm', '00003_00014.ppm', '00004_00029.ppm', '00003_00011.ppm', '00004_00025.ppm', '00002_00021.ppm', '00003_00013.ppm', '00004_00023.ppm', '00004_00004.ppm', '00003_00026.ppm', '00003_00022.ppm', '00004_00002.ppm', '00002_00022.ppm', '00002_00018.ppm', '00003_00003.ppm', '00003_00029.ppm', '00004_00003.ppm', '00004_00012.ppm', '00004_00006.ppm', '00004_00005.ppm', '00004_00015.ppm', '00004_00018.ppm', '00004_00016.ppm', '00002_00025.ppm', '00003_00008.ppm', '00002_00020.ppm', '00003_00019.ppm', '00003_00005.ppm', '00003_00025.ppm', '00003_00004.ppm', '00002_00029.ppm', '00004_00009.ppm', '00004_00000.ppm', '00004_00026.ppm', '00004_00010.ppm', '00003_00012.ppm', '00003_00028.ppm', '00003_00006.ppm', '00004_00019.ppm', '00003_00018.ppm', '00003_00027.ppm', '00004_00013.ppm', '00002_00024.ppm', '00002_00026.ppm', '00003_00024.ppm', '00004_00022.ppm', '00003_00021.ppm', '00004_00024.ppm', '00004_00027.ppm', '00004_00020.ppm', '00003_00015.ppm', '00002_00028.ppm', '00004_00014.ppm', '00002_00019.ppm', '00002_00023.ppm', '00003_00007.ppm', '00003_00001.ppm', '00003_00020.ppm', '00004_00001.ppm', '00004_00011.ppm', '00004_00028.ppm', '00002_00027.ppm', '00003_00023.ppm', '00004_00007.ppm', '00004_00008.ppm', '00003_00016.ppm', '00003_00002.ppm', '00003_00010.ppm', '00003_00017.ppm', '00004_00017.ppm', '00003_00009.ppm', '00004_00021.ppm', '00006_00005.ppm', '00005_00021.ppm', '00006_00009.ppm', '00005_00014.ppm', '00005_00010.ppm', '00006_00024.ppm', '00006_00016.ppm', '00005_00015.ppm', '00005_00029.ppm', '00006_00020.ppm', '00005_00001.ppm', '00005_00023.ppm', '00005_00017.ppm', '00005_00011.ppm', '00005_00006.ppm', '00006_00022.ppm', '00006_00027.ppm', '00006_00006.ppm', '00006_00011.ppm', '00005_00019.ppm', '00005_00000.ppm', '00006_00017.ppm', '00005_00008.ppm', '00005_00009.ppm', '00006_00000.ppm', '00005_00016.ppm', '00006_00012.ppm', '00006_00014.ppm', '00005_00022.ppm', '00006_00008.ppm', '00006_00028.ppm', '00005_00012.ppm', '00005_00018.ppm', '00006_00004.ppm', '00006_00025.ppm', '00005_00025.ppm', '00006_00015.ppm', '00005_00027.ppm', '00006_00001.ppm', '00005_00007.ppm', '00005_00028.ppm', '00006_00029.ppm', '00006_00010.ppm', '00005_00026.ppm', '00006_00026.ppm', '00005_00003.ppm', '00005_00024.ppm', '00005_00013.ppm', '00005_00002.ppm', '00006_00021.ppm', '00006_00018.ppm', '00006_00002.ppm', '00005_00004.ppm', '00006_00019.ppm', '00005_00020.ppm', '00006_00003.ppm', '00006_00023.ppm', '00006_00007.ppm', '00006_00013.ppm', '00005_00005.ppm', 'GT-00000.csv']\n"
          ],
          "name": "stdout"
        }
      ]
    },
    {
      "cell_type": "code",
      "metadata": {
        "id": "5T0xRDHPvmGO",
        "colab_type": "code",
        "outputId": "dd0d03b3-c31b-40e4-9758-4ce62a4905e5",
        "colab": {
          "base_uri": "https://localhost:8080/",
          "height": 739
        }
      },
      "source": [
        "# Reading the input images and putting them into a numpy array\n",
        "data=[]\n",
        "labels=[]\n",
        "\n",
        "height = 30\n",
        "width = 30\n",
        "channels = 3\n",
        "classes = 43\n",
        "n_inputs = height * width*channels\n",
        "\n",
        "for i in range(classes) :\n",
        "    path = \"/content/drive/My Drive/Project/Final_Training/Images/{:05d}\".format(i)\n",
        "    print(path)\n",
        "    Class=os.listdir(path)\n",
        "    for a in Class[:10]:\n",
        "        try:\n",
        "            image=cv2.imread(path+'/'+a)\n",
        "            image_from_array = Image.fromarray(image, 'RGB')\n",
        "            size_image = image_from_array.resize((height, width))\n",
        "            #size_image = image.resize((height, width))\n",
        "            data.append(np.array(size_image))\n",
        "            labels.append(i)\n",
        "        except AttributeError:\n",
        "            print(\" \")\n",
        "      \n",
        "            \n",
        "Cells=np.array(data)\n",
        "labels=np.array(labels)\n",
        "\n",
        "#Randomize the order of the input images\n",
        "s=np.arange(Cells.shape[0])\n",
        "np.random.seed(43)\n",
        "np.random.shuffle(s)\n",
        "Cells=Cells[s]\n",
        "labels=labels[s]"
      ],
      "execution_count": 15,
      "outputs": [
        {
          "output_type": "stream",
          "text": [
            "/content/drive/My Drive/Project/Final_Training/Images/00000\n",
            "/content/drive/My Drive/Project/Final_Training/Images/00001\n",
            "/content/drive/My Drive/Project/Final_Training/Images/00002\n",
            "/content/drive/My Drive/Project/Final_Training/Images/00003\n",
            "/content/drive/My Drive/Project/Final_Training/Images/00004\n",
            "/content/drive/My Drive/Project/Final_Training/Images/00005\n",
            "/content/drive/My Drive/Project/Final_Training/Images/00006\n",
            "/content/drive/My Drive/Project/Final_Training/Images/00007\n",
            "/content/drive/My Drive/Project/Final_Training/Images/00008\n",
            "/content/drive/My Drive/Project/Final_Training/Images/00009\n",
            "/content/drive/My Drive/Project/Final_Training/Images/00010\n",
            "/content/drive/My Drive/Project/Final_Training/Images/00011\n",
            "/content/drive/My Drive/Project/Final_Training/Images/00012\n",
            "/content/drive/My Drive/Project/Final_Training/Images/00013\n",
            "/content/drive/My Drive/Project/Final_Training/Images/00014\n",
            "/content/drive/My Drive/Project/Final_Training/Images/00015\n",
            "/content/drive/My Drive/Project/Final_Training/Images/00016\n",
            "/content/drive/My Drive/Project/Final_Training/Images/00017\n",
            "/content/drive/My Drive/Project/Final_Training/Images/00018\n",
            "/content/drive/My Drive/Project/Final_Training/Images/00019\n",
            "/content/drive/My Drive/Project/Final_Training/Images/00020\n",
            "/content/drive/My Drive/Project/Final_Training/Images/00021\n",
            "/content/drive/My Drive/Project/Final_Training/Images/00022\n",
            "/content/drive/My Drive/Project/Final_Training/Images/00023\n",
            "/content/drive/My Drive/Project/Final_Training/Images/00024\n",
            "/content/drive/My Drive/Project/Final_Training/Images/00025\n",
            "/content/drive/My Drive/Project/Final_Training/Images/00026\n",
            "/content/drive/My Drive/Project/Final_Training/Images/00027\n",
            "/content/drive/My Drive/Project/Final_Training/Images/00028\n",
            "/content/drive/My Drive/Project/Final_Training/Images/00029\n",
            "/content/drive/My Drive/Project/Final_Training/Images/00030\n",
            "/content/drive/My Drive/Project/Final_Training/Images/00031\n",
            "/content/drive/My Drive/Project/Final_Training/Images/00032\n",
            "/content/drive/My Drive/Project/Final_Training/Images/00033\n",
            "/content/drive/My Drive/Project/Final_Training/Images/00034\n",
            "/content/drive/My Drive/Project/Final_Training/Images/00035\n",
            "/content/drive/My Drive/Project/Final_Training/Images/00036\n",
            "/content/drive/My Drive/Project/Final_Training/Images/00037\n",
            "/content/drive/My Drive/Project/Final_Training/Images/00038\n",
            "/content/drive/My Drive/Project/Final_Training/Images/00039\n",
            "/content/drive/My Drive/Project/Final_Training/Images/00040\n",
            "/content/drive/My Drive/Project/Final_Training/Images/00041\n",
            "/content/drive/My Drive/Project/Final_Training/Images/00042\n"
          ],
          "name": "stdout"
        }
      ]
    },
    {
      "cell_type": "code",
      "metadata": {
        "id": "edl6xZzs-HLP",
        "colab_type": "code",
        "outputId": "695af1e2-695e-418b-baee-94aa12a8e63d",
        "colab": {
          "base_uri": "https://localhost:8080/",
          "height": 34
        }
      },
      "source": [
        "Cells.shape"
      ],
      "execution_count": 16,
      "outputs": [
        {
          "output_type": "execute_result",
          "data": {
            "text/plain": [
              "(430, 30, 30, 3)"
            ]
          },
          "metadata": {
            "tags": []
          },
          "execution_count": 16
        }
      ]
    },
    {
      "cell_type": "code",
      "metadata": {
        "id": "lvdnaESTpv67",
        "colab_type": "code",
        "outputId": "49d8c2eb-f83e-4d15-c207-7765ff1b3e4a",
        "colab": {
          "base_uri": "https://localhost:8080/",
          "height": 34
        }
      },
      "source": [
        "Cells.size"
      ],
      "execution_count": 17,
      "outputs": [
        {
          "output_type": "execute_result",
          "data": {
            "text/plain": [
              "1161000"
            ]
          },
          "metadata": {
            "tags": []
          },
          "execution_count": 17
        }
      ]
    },
    {
      "cell_type": "code",
      "metadata": {
        "id": "KRjgZ5RSqH1K",
        "colab_type": "code",
        "outputId": "a4c656c8-b527-4760-8c15-6c804705bbc5",
        "colab": {
          "base_uri": "https://localhost:8080/",
          "height": 34
        }
      },
      "source": [
        "Cells[429].size"
      ],
      "execution_count": 18,
      "outputs": [
        {
          "output_type": "execute_result",
          "data": {
            "text/plain": [
              "2700"
            ]
          },
          "metadata": {
            "tags": []
          },
          "execution_count": 18
        }
      ]
    },
    {
      "cell_type": "code",
      "metadata": {
        "id": "MTcfKsA-ubKJ",
        "colab_type": "code",
        "colab": {}
      },
      "source": [
        "Cells[0]"
      ],
      "execution_count": 0,
      "outputs": []
    },
    {
      "cell_type": "code",
      "metadata": {
        "id": "41l90us7A73i",
        "colab_type": "code",
        "colab": {
          "base_uri": "https://localhost:8080/",
          "height": 34
        },
        "outputId": "7fd533a7-178d-4494-b918-eeaf56e6301d"
      },
      "source": [
        "#Spliting the images into train and validation sets\n",
        "(X_train,X_val)=Cells[(int)(0.2*len(labels)):],Cells[:(int)(0.2*len(labels))]\n",
        "X_train = X_train.astype('float32')/255 \n",
        "X_val = X_val.astype('float32')/255\n",
        "(y_train,y_val)=labels[(int)(0.2*len(labels)):],labels[:(int)(0.2*len(labels))]\n",
        "\n",
        "#Using one hote encoding for the train and validation labels\n",
        "from keras.utils import to_categorical\n",
        "y_train = to_categorical(y_train, 43)\n",
        "y_val = to_categorical(y_val, 43)\n"
      ],
      "execution_count": 21,
      "outputs": [
        {
          "output_type": "stream",
          "text": [
            "Using TensorFlow backend.\n"
          ],
          "name": "stderr"
        }
      ]
    },
    {
      "cell_type": "code",
      "metadata": {
        "id": "_a_OqbGHA_-1",
        "colab_type": "code",
        "colab": {
          "base_uri": "https://localhost:8080/",
          "height": 34
        },
        "outputId": "d661fb13-53d3-4c9c-e807-25ace8508502"
      },
      "source": [
        "X_train.shape"
      ],
      "execution_count": 22,
      "outputs": [
        {
          "output_type": "execute_result",
          "data": {
            "text/plain": [
              "(344, 30, 30, 3)"
            ]
          },
          "metadata": {
            "tags": []
          },
          "execution_count": 22
        }
      ]
    },
    {
      "cell_type": "code",
      "metadata": {
        "id": "mnI3Vf8CBK0o",
        "colab_type": "code",
        "colab": {
          "base_uri": "https://localhost:8080/",
          "height": 34
        },
        "outputId": "9b4c22e6-ef66-49bb-b26a-a3738f9411b0"
      },
      "source": [
        "X_val.shape"
      ],
      "execution_count": 23,
      "outputs": [
        {
          "output_type": "execute_result",
          "data": {
            "text/plain": [
              "(86, 30, 30, 3)"
            ]
          },
          "metadata": {
            "tags": []
          },
          "execution_count": 23
        }
      ]
    },
    {
      "cell_type": "code",
      "metadata": {
        "id": "9LZ2u-xcBSPr",
        "colab_type": "code",
        "colab": {
          "base_uri": "https://localhost:8080/",
          "height": 34
        },
        "outputId": "92fccb00-d88b-4cc8-a151-832f32e818e1"
      },
      "source": [
        "y_train.shape"
      ],
      "execution_count": 24,
      "outputs": [
        {
          "output_type": "execute_result",
          "data": {
            "text/plain": [
              "(344, 43)"
            ]
          },
          "metadata": {
            "tags": []
          },
          "execution_count": 24
        }
      ]
    },
    {
      "cell_type": "code",
      "metadata": {
        "id": "AFpUSKIDBSMt",
        "colab_type": "code",
        "colab": {
          "base_uri": "https://localhost:8080/",
          "height": 34
        },
        "outputId": "7828cfaf-24c0-45f7-a2f4-0b6c0f543778"
      },
      "source": [
        "y_val.shape"
      ],
      "execution_count": 27,
      "outputs": [
        {
          "output_type": "execute_result",
          "data": {
            "text/plain": [
              "(86, 43)"
            ]
          },
          "metadata": {
            "tags": []
          },
          "execution_count": 27
        }
      ]
    }
  ]
}